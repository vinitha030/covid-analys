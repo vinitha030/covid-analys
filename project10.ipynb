{
 "cells": [
  {
   "cell_type": "markdown",
   "id": "5e6d49e2",
   "metadata": {},
   "source": [
    "## Project - 10"
   ]
  },
  {
   "cell_type": "code",
   "execution_count": 49,
   "id": "8962533a",
   "metadata": {},
   "outputs": [
    {
     "data": {
      "text/html": [
       "<div>\n",
       "<style scoped>\n",
       "    .dataframe tbody tr th:only-of-type {\n",
       "        vertical-align: middle;\n",
       "    }\n",
       "\n",
       "    .dataframe tbody tr th {\n",
       "        vertical-align: top;\n",
       "    }\n",
       "\n",
       "    .dataframe thead th {\n",
       "        text-align: right;\n",
       "    }\n",
       "</style>\n",
       "<table border=\"1\" class=\"dataframe\">\n",
       "  <thead>\n",
       "    <tr style=\"text-align: right;\">\n",
       "      <th></th>\n",
       "      <th>country</th>\n",
       "      <th>iso_code</th>\n",
       "      <th>date</th>\n",
       "      <th>total_vaccinations</th>\n",
       "      <th>people_vaccinated</th>\n",
       "      <th>people_fully_vaccinated</th>\n",
       "      <th>daily_vaccinations_raw</th>\n",
       "      <th>daily_vaccinations</th>\n",
       "      <th>total_vaccinations_per_hundred</th>\n",
       "      <th>people_vaccinated_per_hundred</th>\n",
       "      <th>people_fully_vaccinated_per_hundred</th>\n",
       "      <th>daily_vaccinations_per_million</th>\n",
       "      <th>vaccines</th>\n",
       "      <th>source_name</th>\n",
       "      <th>source_website</th>\n",
       "    </tr>\n",
       "  </thead>\n",
       "  <tbody>\n",
       "    <tr>\n",
       "      <th>0</th>\n",
       "      <td>Afghanistan</td>\n",
       "      <td>AFG</td>\n",
       "      <td>2021-02-22</td>\n",
       "      <td>0.0</td>\n",
       "      <td>0.0</td>\n",
       "      <td>NaN</td>\n",
       "      <td>NaN</td>\n",
       "      <td>NaN</td>\n",
       "      <td>0.00</td>\n",
       "      <td>0.00</td>\n",
       "      <td>NaN</td>\n",
       "      <td>NaN</td>\n",
       "      <td>Johnson&amp;Johnson, Oxford/AstraZeneca, Pfizer/Bi...</td>\n",
       "      <td>World Health Organization</td>\n",
       "      <td>https://covid19.who.int/</td>\n",
       "    </tr>\n",
       "    <tr>\n",
       "      <th>1</th>\n",
       "      <td>Afghanistan</td>\n",
       "      <td>AFG</td>\n",
       "      <td>2021-02-23</td>\n",
       "      <td>NaN</td>\n",
       "      <td>NaN</td>\n",
       "      <td>NaN</td>\n",
       "      <td>NaN</td>\n",
       "      <td>1367.0</td>\n",
       "      <td>NaN</td>\n",
       "      <td>NaN</td>\n",
       "      <td>NaN</td>\n",
       "      <td>34.0</td>\n",
       "      <td>Johnson&amp;Johnson, Oxford/AstraZeneca, Pfizer/Bi...</td>\n",
       "      <td>World Health Organization</td>\n",
       "      <td>https://covid19.who.int/</td>\n",
       "    </tr>\n",
       "    <tr>\n",
       "      <th>2</th>\n",
       "      <td>Afghanistan</td>\n",
       "      <td>AFG</td>\n",
       "      <td>2021-02-24</td>\n",
       "      <td>NaN</td>\n",
       "      <td>NaN</td>\n",
       "      <td>NaN</td>\n",
       "      <td>NaN</td>\n",
       "      <td>1367.0</td>\n",
       "      <td>NaN</td>\n",
       "      <td>NaN</td>\n",
       "      <td>NaN</td>\n",
       "      <td>34.0</td>\n",
       "      <td>Johnson&amp;Johnson, Oxford/AstraZeneca, Pfizer/Bi...</td>\n",
       "      <td>World Health Organization</td>\n",
       "      <td>https://covid19.who.int/</td>\n",
       "    </tr>\n",
       "    <tr>\n",
       "      <th>3</th>\n",
       "      <td>Afghanistan</td>\n",
       "      <td>AFG</td>\n",
       "      <td>2021-02-25</td>\n",
       "      <td>NaN</td>\n",
       "      <td>NaN</td>\n",
       "      <td>NaN</td>\n",
       "      <td>NaN</td>\n",
       "      <td>1367.0</td>\n",
       "      <td>NaN</td>\n",
       "      <td>NaN</td>\n",
       "      <td>NaN</td>\n",
       "      <td>34.0</td>\n",
       "      <td>Johnson&amp;Johnson, Oxford/AstraZeneca, Pfizer/Bi...</td>\n",
       "      <td>World Health Organization</td>\n",
       "      <td>https://covid19.who.int/</td>\n",
       "    </tr>\n",
       "    <tr>\n",
       "      <th>4</th>\n",
       "      <td>Afghanistan</td>\n",
       "      <td>AFG</td>\n",
       "      <td>2021-02-26</td>\n",
       "      <td>NaN</td>\n",
       "      <td>NaN</td>\n",
       "      <td>NaN</td>\n",
       "      <td>NaN</td>\n",
       "      <td>1367.0</td>\n",
       "      <td>NaN</td>\n",
       "      <td>NaN</td>\n",
       "      <td>NaN</td>\n",
       "      <td>34.0</td>\n",
       "      <td>Johnson&amp;Johnson, Oxford/AstraZeneca, Pfizer/Bi...</td>\n",
       "      <td>World Health Organization</td>\n",
       "      <td>https://covid19.who.int/</td>\n",
       "    </tr>\n",
       "    <tr>\n",
       "      <th>...</th>\n",
       "      <td>...</td>\n",
       "      <td>...</td>\n",
       "      <td>...</td>\n",
       "      <td>...</td>\n",
       "      <td>...</td>\n",
       "      <td>...</td>\n",
       "      <td>...</td>\n",
       "      <td>...</td>\n",
       "      <td>...</td>\n",
       "      <td>...</td>\n",
       "      <td>...</td>\n",
       "      <td>...</td>\n",
       "      <td>...</td>\n",
       "      <td>...</td>\n",
       "      <td>...</td>\n",
       "    </tr>\n",
       "    <tr>\n",
       "      <th>86507</th>\n",
       "      <td>Zimbabwe</td>\n",
       "      <td>ZWE</td>\n",
       "      <td>2022-03-25</td>\n",
       "      <td>8691642.0</td>\n",
       "      <td>4814582.0</td>\n",
       "      <td>3473523.0</td>\n",
       "      <td>139213.0</td>\n",
       "      <td>69579.0</td>\n",
       "      <td>57.59</td>\n",
       "      <td>31.90</td>\n",
       "      <td>23.02</td>\n",
       "      <td>4610.0</td>\n",
       "      <td>Oxford/AstraZeneca, Sinopharm/Beijing, Sinovac...</td>\n",
       "      <td>Ministry of Health</td>\n",
       "      <td>https://www.arcgis.com/home/webmap/viewer.html...</td>\n",
       "    </tr>\n",
       "    <tr>\n",
       "      <th>86508</th>\n",
       "      <td>Zimbabwe</td>\n",
       "      <td>ZWE</td>\n",
       "      <td>2022-03-26</td>\n",
       "      <td>8791728.0</td>\n",
       "      <td>4886242.0</td>\n",
       "      <td>3487962.0</td>\n",
       "      <td>100086.0</td>\n",
       "      <td>83429.0</td>\n",
       "      <td>58.25</td>\n",
       "      <td>32.38</td>\n",
       "      <td>23.11</td>\n",
       "      <td>5528.0</td>\n",
       "      <td>Oxford/AstraZeneca, Sinopharm/Beijing, Sinovac...</td>\n",
       "      <td>Ministry of Health</td>\n",
       "      <td>https://www.arcgis.com/home/webmap/viewer.html...</td>\n",
       "    </tr>\n",
       "    <tr>\n",
       "      <th>86509</th>\n",
       "      <td>Zimbabwe</td>\n",
       "      <td>ZWE</td>\n",
       "      <td>2022-03-27</td>\n",
       "      <td>8845039.0</td>\n",
       "      <td>4918147.0</td>\n",
       "      <td>3493763.0</td>\n",
       "      <td>53311.0</td>\n",
       "      <td>90629.0</td>\n",
       "      <td>58.61</td>\n",
       "      <td>32.59</td>\n",
       "      <td>23.15</td>\n",
       "      <td>6005.0</td>\n",
       "      <td>Oxford/AstraZeneca, Sinopharm/Beijing, Sinovac...</td>\n",
       "      <td>Ministry of Health</td>\n",
       "      <td>https://www.arcgis.com/home/webmap/viewer.html...</td>\n",
       "    </tr>\n",
       "    <tr>\n",
       "      <th>86510</th>\n",
       "      <td>Zimbabwe</td>\n",
       "      <td>ZWE</td>\n",
       "      <td>2022-03-28</td>\n",
       "      <td>8934360.0</td>\n",
       "      <td>4975433.0</td>\n",
       "      <td>3501493.0</td>\n",
       "      <td>89321.0</td>\n",
       "      <td>100614.0</td>\n",
       "      <td>59.20</td>\n",
       "      <td>32.97</td>\n",
       "      <td>23.20</td>\n",
       "      <td>6667.0</td>\n",
       "      <td>Oxford/AstraZeneca, Sinopharm/Beijing, Sinovac...</td>\n",
       "      <td>Ministry of Health</td>\n",
       "      <td>https://www.arcgis.com/home/webmap/viewer.html...</td>\n",
       "    </tr>\n",
       "    <tr>\n",
       "      <th>86511</th>\n",
       "      <td>Zimbabwe</td>\n",
       "      <td>ZWE</td>\n",
       "      <td>2022-03-29</td>\n",
       "      <td>9039729.0</td>\n",
       "      <td>5053114.0</td>\n",
       "      <td>3510256.0</td>\n",
       "      <td>105369.0</td>\n",
       "      <td>103751.0</td>\n",
       "      <td>59.90</td>\n",
       "      <td>33.48</td>\n",
       "      <td>23.26</td>\n",
       "      <td>6874.0</td>\n",
       "      <td>Oxford/AstraZeneca, Sinopharm/Beijing, Sinovac...</td>\n",
       "      <td>Ministry of Health</td>\n",
       "      <td>https://www.arcgis.com/home/webmap/viewer.html...</td>\n",
       "    </tr>\n",
       "  </tbody>\n",
       "</table>\n",
       "<p>86512 rows × 15 columns</p>\n",
       "</div>"
      ],
      "text/plain": [
       "           country iso_code        date  total_vaccinations  \\\n",
       "0      Afghanistan      AFG  2021-02-22                 0.0   \n",
       "1      Afghanistan      AFG  2021-02-23                 NaN   \n",
       "2      Afghanistan      AFG  2021-02-24                 NaN   \n",
       "3      Afghanistan      AFG  2021-02-25                 NaN   \n",
       "4      Afghanistan      AFG  2021-02-26                 NaN   \n",
       "...            ...      ...         ...                 ...   \n",
       "86507     Zimbabwe      ZWE  2022-03-25           8691642.0   \n",
       "86508     Zimbabwe      ZWE  2022-03-26           8791728.0   \n",
       "86509     Zimbabwe      ZWE  2022-03-27           8845039.0   \n",
       "86510     Zimbabwe      ZWE  2022-03-28           8934360.0   \n",
       "86511     Zimbabwe      ZWE  2022-03-29           9039729.0   \n",
       "\n",
       "       people_vaccinated  people_fully_vaccinated  daily_vaccinations_raw  \\\n",
       "0                    0.0                      NaN                     NaN   \n",
       "1                    NaN                      NaN                     NaN   \n",
       "2                    NaN                      NaN                     NaN   \n",
       "3                    NaN                      NaN                     NaN   \n",
       "4                    NaN                      NaN                     NaN   \n",
       "...                  ...                      ...                     ...   \n",
       "86507          4814582.0                3473523.0                139213.0   \n",
       "86508          4886242.0                3487962.0                100086.0   \n",
       "86509          4918147.0                3493763.0                 53311.0   \n",
       "86510          4975433.0                3501493.0                 89321.0   \n",
       "86511          5053114.0                3510256.0                105369.0   \n",
       "\n",
       "       daily_vaccinations  total_vaccinations_per_hundred  \\\n",
       "0                     NaN                            0.00   \n",
       "1                  1367.0                             NaN   \n",
       "2                  1367.0                             NaN   \n",
       "3                  1367.0                             NaN   \n",
       "4                  1367.0                             NaN   \n",
       "...                   ...                             ...   \n",
       "86507             69579.0                           57.59   \n",
       "86508             83429.0                           58.25   \n",
       "86509             90629.0                           58.61   \n",
       "86510            100614.0                           59.20   \n",
       "86511            103751.0                           59.90   \n",
       "\n",
       "       people_vaccinated_per_hundred  people_fully_vaccinated_per_hundred  \\\n",
       "0                               0.00                                  NaN   \n",
       "1                                NaN                                  NaN   \n",
       "2                                NaN                                  NaN   \n",
       "3                                NaN                                  NaN   \n",
       "4                                NaN                                  NaN   \n",
       "...                              ...                                  ...   \n",
       "86507                          31.90                                23.02   \n",
       "86508                          32.38                                23.11   \n",
       "86509                          32.59                                23.15   \n",
       "86510                          32.97                                23.20   \n",
       "86511                          33.48                                23.26   \n",
       "\n",
       "       daily_vaccinations_per_million  \\\n",
       "0                                 NaN   \n",
       "1                                34.0   \n",
       "2                                34.0   \n",
       "3                                34.0   \n",
       "4                                34.0   \n",
       "...                               ...   \n",
       "86507                          4610.0   \n",
       "86508                          5528.0   \n",
       "86509                          6005.0   \n",
       "86510                          6667.0   \n",
       "86511                          6874.0   \n",
       "\n",
       "                                                vaccines  \\\n",
       "0      Johnson&Johnson, Oxford/AstraZeneca, Pfizer/Bi...   \n",
       "1      Johnson&Johnson, Oxford/AstraZeneca, Pfizer/Bi...   \n",
       "2      Johnson&Johnson, Oxford/AstraZeneca, Pfizer/Bi...   \n",
       "3      Johnson&Johnson, Oxford/AstraZeneca, Pfizer/Bi...   \n",
       "4      Johnson&Johnson, Oxford/AstraZeneca, Pfizer/Bi...   \n",
       "...                                                  ...   \n",
       "86507  Oxford/AstraZeneca, Sinopharm/Beijing, Sinovac...   \n",
       "86508  Oxford/AstraZeneca, Sinopharm/Beijing, Sinovac...   \n",
       "86509  Oxford/AstraZeneca, Sinopharm/Beijing, Sinovac...   \n",
       "86510  Oxford/AstraZeneca, Sinopharm/Beijing, Sinovac...   \n",
       "86511  Oxford/AstraZeneca, Sinopharm/Beijing, Sinovac...   \n",
       "\n",
       "                     source_name  \\\n",
       "0      World Health Organization   \n",
       "1      World Health Organization   \n",
       "2      World Health Organization   \n",
       "3      World Health Organization   \n",
       "4      World Health Organization   \n",
       "...                          ...   \n",
       "86507         Ministry of Health   \n",
       "86508         Ministry of Health   \n",
       "86509         Ministry of Health   \n",
       "86510         Ministry of Health   \n",
       "86511         Ministry of Health   \n",
       "\n",
       "                                          source_website  \n",
       "0                               https://covid19.who.int/  \n",
       "1                               https://covid19.who.int/  \n",
       "2                               https://covid19.who.int/  \n",
       "3                               https://covid19.who.int/  \n",
       "4                               https://covid19.who.int/  \n",
       "...                                                  ...  \n",
       "86507  https://www.arcgis.com/home/webmap/viewer.html...  \n",
       "86508  https://www.arcgis.com/home/webmap/viewer.html...  \n",
       "86509  https://www.arcgis.com/home/webmap/viewer.html...  \n",
       "86510  https://www.arcgis.com/home/webmap/viewer.html...  \n",
       "86511  https://www.arcgis.com/home/webmap/viewer.html...  \n",
       "\n",
       "[86512 rows x 15 columns]"
      ]
     },
     "execution_count": 49,
     "metadata": {},
     "output_type": "execute_result"
    }
   ],
   "source": [
    "import pandas as pd\n",
    "df = pd.read_csv(r\"C:\\Users\\Dell\\OneDrive\\Desktop\\Data-Science-Specialization-main\\Week - 9\\Projects\\country_vaccinations.csv\")\n",
    "df"
   ]
  },
  {
   "cell_type": "code",
   "execution_count": 50,
   "id": "03c184ce",
   "metadata": {},
   "outputs": [
    {
     "data": {
      "text/plain": [
       "country                                    0\n",
       "iso_code                                   0\n",
       "date                                       0\n",
       "total_vaccinations                     42905\n",
       "people_vaccinated                      45218\n",
       "people_fully_vaccinated                47710\n",
       "daily_vaccinations_raw                 51150\n",
       "daily_vaccinations                       299\n",
       "total_vaccinations_per_hundred         42905\n",
       "people_vaccinated_per_hundred          45218\n",
       "people_fully_vaccinated_per_hundred    47710\n",
       "daily_vaccinations_per_million           299\n",
       "vaccines                                   0\n",
       "source_name                                0\n",
       "source_website                             0\n",
       "dtype: int64"
      ]
     },
     "execution_count": 50,
     "metadata": {},
     "output_type": "execute_result"
    }
   ],
   "source": [
    "df.isna().sum()"
   ]
  },
  {
   "cell_type": "code",
   "execution_count": 51,
   "id": "4b0006bf",
   "metadata": {},
   "outputs": [
    {
     "data": {
      "text/plain": [
       "country                                0\n",
       "iso_code                               0\n",
       "date                                   0\n",
       "total_vaccinations                     0\n",
       "people_vaccinated                      0\n",
       "people_fully_vaccinated                0\n",
       "daily_vaccinations_raw                 0\n",
       "daily_vaccinations                     0\n",
       "total_vaccinations_per_hundred         0\n",
       "people_vaccinated_per_hundred          0\n",
       "people_fully_vaccinated_per_hundred    0\n",
       "daily_vaccinations_per_million         0\n",
       "vaccines                               0\n",
       "source_name                            0\n",
       "source_website                         0\n",
       "dtype: int64"
      ]
     },
     "execution_count": 51,
     "metadata": {},
     "output_type": "execute_result"
    }
   ],
   "source": [
    "dfna = df.dropna()\n",
    "dfna.isnull().sum()"
   ]
  },
  {
   "cell_type": "markdown",
   "id": "649a9d7f",
   "metadata": {},
   "source": [
    "### Find no.of total vaccinations in INDIA in 2020,2021 and 2022"
   ]
  },
  {
   "cell_type": "code",
   "execution_count": 52,
   "id": "09b8205c",
   "metadata": {},
   "outputs": [],
   "source": [
    "filtered_df = df[(df['country'] == 'India') &  (df['date'].str.startswith('2021'))]"
   ]
  },
  {
   "cell_type": "code",
   "execution_count": 53,
   "id": "e2bdabfc",
   "metadata": {},
   "outputs": [
    {
     "data": {
      "text/plain": [
       "174118546779.0"
      ]
     },
     "execution_count": 53,
     "metadata": {},
     "output_type": "execute_result"
    }
   ],
   "source": [
    "filtered_df[\"total_vaccinations\"].sum()"
   ]
  },
  {
   "cell_type": "code",
   "execution_count": 54,
   "id": "fc641bd7",
   "metadata": {},
   "outputs": [
    {
     "data": {
      "text/plain": [
       "149321759019.0"
      ]
     },
     "execution_count": 54,
     "metadata": {},
     "output_type": "execute_result"
    }
   ],
   "source": [
    "filtered_df = df[(df['country'] == 'India') &  (df['date'].str.startswith('2022'))]\n",
    "filtered_df[\"total_vaccinations\"].sum()"
   ]
  },
  {
   "cell_type": "code",
   "execution_count": 55,
   "id": "918717aa",
   "metadata": {},
   "outputs": [
    {
     "data": {
      "text/plain": [
       "0.0"
      ]
     },
     "execution_count": 55,
     "metadata": {},
     "output_type": "execute_result"
    }
   ],
   "source": [
    "filtered_df = df[(df['country'] == 'India') &  (df['date'].str.startswith('2020'))]\n",
    "filtered_df[\"total_vaccinations\"].sum()"
   ]
  },
  {
   "cell_type": "markdown",
   "id": "dd395ad0",
   "metadata": {},
   "source": [
    "### Compare total no.of vaccinations in India and USA in 2020"
   ]
  },
  {
   "cell_type": "code",
   "execution_count": 56,
   "id": "f9ed89da",
   "metadata": {},
   "outputs": [
    {
     "data": {
      "text/plain": [
       "0.0"
      ]
     },
     "execution_count": 56,
     "metadata": {},
     "output_type": "execute_result"
    }
   ],
   "source": [
    "filtered_df = df[(df['country'] == 'Unites States') &  (df['date'].str.startswith('2022'))]\n",
    "filtered_df[\"total_vaccinations\"].sum()"
   ]
  },
  {
   "cell_type": "markdown",
   "id": "c1469426",
   "metadata": {},
   "source": [
    "Both countries INDIA and USA have 0 vaccinations in the yr 2020"
   ]
  },
  {
   "cell_type": "markdown",
   "id": "010e0924",
   "metadata": {},
   "source": [
    "### Compare total no.of vaccinations in India and China in 2021"
   ]
  },
  {
   "cell_type": "code",
   "execution_count": 57,
   "id": "c9d81792",
   "metadata": {},
   "outputs": [
    {
     "data": {
      "text/plain": [
       "440076944700.0"
      ]
     },
     "execution_count": 57,
     "metadata": {},
     "output_type": "execute_result"
    }
   ],
   "source": [
    "filtered_df = df[(df['country'] == 'China') &  (df['date'].str.startswith('2021'))]\n",
    "filtered_df[\"total_vaccinations\"].sum()"
   ]
  },
  {
   "cell_type": "code",
   "execution_count": 58,
   "id": "1f293021",
   "metadata": {},
   "outputs": [
    {
     "data": {
      "text/plain": [
       "Text(0.5, 1.0, 'Comparision of vaccinations in 2021 b/w INDIA & CHINA')"
      ]
     },
     "execution_count": 58,
     "metadata": {},
     "output_type": "execute_result"
    },
    {
     "data": {
      "image/png": "[encoded data removed]",
      "text/plain": [
       "<Figure size 640x480 with 1 Axes>"
      ]
     },
     "metadata": {},
     "output_type": "display_data"
    }
   ],
   "source": [
    "import matplotlib.pyplot as plt\n",
    "\n",
    "\n",
    "list1 = ['India','China']\n",
    "list2 = [174118546779,440076944700]\n",
    "plt.bar(list1,list2)\n",
    "plt.xlabel(\"Countries\")\n",
    "plt.ylabel(\"Total no.of vaccinations\")\n",
    "plt.title(\"Comparision of vaccinations in 2021 b/w INDIA & CHINA\")\n"
   ]
  },
  {
   "cell_type": "markdown",
   "id": "59f43adf",
   "metadata": {},
   "source": [
    "### Find no.of vaccinations in India in each month of 2021"
   ]
  },
  {
   "cell_type": "code",
   "execution_count": 59,
   "id": "c88f5c4b",
   "metadata": {},
   "outputs": [
    {
     "name": "stdout",
     "output_type": "stream",
     "text": [
      "jan :  1137932000.0\n"
     ]
    }
   ],
   "source": [
    "df_filtered = dfna[dfna['date'].str.startswith('2021-01')]\n",
    "print(\"jan : \",df_filtered['total_vaccinations'].sum())"
   ]
  },
  {
   "cell_type": "code",
   "execution_count": 60,
   "id": "373113ec",
   "metadata": {},
   "outputs": [
    {
     "name": "stdout",
     "output_type": "stream",
     "text": [
      "feb :  4021300388.0\n"
     ]
    }
   ],
   "source": [
    "df_filtered = dfna[dfna['date'].str.startswith('2021-02')]\n",
    "print(\"feb : \",df_filtered['total_vaccinations'].sum())"
   ]
  },
  {
   "cell_type": "code",
   "execution_count": 61,
   "id": "544ba77c",
   "metadata": {},
   "outputs": [
    {
     "name": "stdout",
     "output_type": "stream",
     "text": [
      "march :  10542733392.0\n"
     ]
    }
   ],
   "source": [
    "df_filtered = dfna[dfna['date'].str.startswith('2021-03')]\n",
    "print(\"march : \",df_filtered['total_vaccinations'].sum())"
   ]
  },
  {
   "cell_type": "code",
   "execution_count": 62,
   "id": "b1cc0000",
   "metadata": {},
   "outputs": [
    {
     "name": "stdout",
     "output_type": "stream",
     "text": [
      "apri :  19699996461.0\n"
     ]
    }
   ],
   "source": [
    "df_filtered = dfna[dfna['date'].str.startswith('2021-04')]\n",
    "print(\"apri : \",df_filtered['total_vaccinations'].sum())"
   ]
  },
  {
   "cell_type": "code",
   "execution_count": 63,
   "id": "c8d64eb1",
   "metadata": {},
   "outputs": [
    {
     "name": "stdout",
     "output_type": "stream",
     "text": [
      "may :  31736246143.0\n"
     ]
    }
   ],
   "source": [
    "df_filtered = dfna[dfna['date'].str.startswith('2021-05')]\n",
    "print(\"may : \",df_filtered['total_vaccinations'].sum())"
   ]
  },
  {
   "cell_type": "code",
   "execution_count": 64,
   "id": "b931a214",
   "metadata": {},
   "outputs": [
    {
     "name": "stdout",
     "output_type": "stream",
     "text": [
      "june :  44355139362.0\n"
     ]
    }
   ],
   "source": [
    "df_filtered = dfna[dfna['date'].str.startswith('2021-06')]\n",
    "print(\"june : \",df_filtered['total_vaccinations'].sum())"
   ]
  },
  {
   "cell_type": "code",
   "execution_count": 65,
   "id": "08c33f9c",
   "metadata": {},
   "outputs": [
    {
     "name": "stdout",
     "output_type": "stream",
     "text": [
      "july :  60594470534.0\n"
     ]
    }
   ],
   "source": [
    "df_filtered = dfna[dfna['date'].str.startswith('2021-07')]\n",
    "print(\"july : \",df_filtered['total_vaccinations'].sum())"
   ]
  },
  {
   "cell_type": "code",
   "execution_count": 66,
   "id": "15b42b0b",
   "metadata": {},
   "outputs": [
    {
     "name": "stdout",
     "output_type": "stream",
     "text": [
      "aug :  78662644326.0\n"
     ]
    }
   ],
   "source": [
    "df_filtered = dfna[dfna['date'].str.startswith('2021-08')]\n",
    "print(\"aug : \",df_filtered['total_vaccinations'].sum())"
   ]
  },
  {
   "cell_type": "code",
   "execution_count": 67,
   "id": "28c37892",
   "metadata": {},
   "outputs": [
    {
     "name": "stdout",
     "output_type": "stream",
     "text": [
      "sep :  98931099432.0\n"
     ]
    }
   ],
   "source": [
    "df_filtered = dfna[dfna['date'].str.startswith('2021-09')]\n",
    "print(\"sep : \",df_filtered['total_vaccinations'].sum())"
   ]
  },
  {
   "cell_type": "code",
   "execution_count": 68,
   "id": "891f8747",
   "metadata": {},
   "outputs": [
    {
     "name": "stdout",
     "output_type": "stream",
     "text": [
      "oct :  110493873823.0\n"
     ]
    }
   ],
   "source": [
    "df_filtered = dfna[dfna['date'].str.startswith('2021-10')]\n",
    "print(\"oct : \",df_filtered['total_vaccinations'].sum())"
   ]
  },
  {
   "cell_type": "code",
   "execution_count": 69,
   "id": "45379343",
   "metadata": {},
   "outputs": [
    {
     "name": "stdout",
     "output_type": "stream",
     "text": [
      "nov :  124433009695.0\n"
     ]
    }
   ],
   "source": [
    "df_filtered = dfna[dfna['date'].str.startswith('2021-11')]\n",
    "print(\"nov : \",df_filtered['total_vaccinations'].sum())"
   ]
  },
  {
   "cell_type": "code",
   "execution_count": 70,
   "id": "27287ddf",
   "metadata": {},
   "outputs": [
    {
     "name": "stdout",
     "output_type": "stream",
     "text": [
      "dec :  139866584933.0\n"
     ]
    }
   ],
   "source": [
    "df_filtered = dfna[dfna['date'].str.startswith('2021-12')]\n",
    "print(\"dec : \",df_filtered['total_vaccinations'].sum())"
   ]
  },
  {
   "cell_type": "markdown",
   "id": "f12a73a8",
   "metadata": {},
   "source": [
    "### Which month has maximum no of total vaccinations in INDIA in 2021"
   ]
  },
  {
   "cell_type": "code",
   "execution_count": 71,
   "id": "2f717ecd",
   "metadata": {},
   "outputs": [
    {
     "data": {
      "text/plain": [
       "Text(0.5, 1.0, 'no of total vaccinations in INDIA in 2021')"
      ]
     },
     "execution_count": 71,
     "metadata": {},
     "output_type": "execute_result"
    },
    {
     "data": {
      "image/png": "[encoded data removed]",
      "text/plain": [
       "<Figure size 640x480 with 1 Axes>"
      ]
     },
     "metadata": {},
     "output_type": "display_data"
    }
   ],
   "source": [
    "months = ['jan','feb','march','april','may','june','july','aug','sep','oct','nov','dec']\n",
    "count = [1137932000.0,4021300388.0,10542733392.0,19699996461.0,31736246143.0,44355139362.0,60594470534.0,78662644326.0,98931099432.0,110493873823.0,124433009695.0,139866584933.0]\n",
    "plt.bar(months,count)\n",
    "plt.xlabel(\"months\")\n",
    "plt.ylabel(\"no.of vaccinations\")\n",
    "plt.title('no of total vaccinations in INDIA in 2021')"
   ]
  },
  {
   "cell_type": "markdown",
   "id": "b5e2b5ec",
   "metadata": {},
   "source": [
    "from the graph we conclude that december has highest no.of vaccinations"
   ]
  }
 ],
 "metadata": {
  "kernelspec": {
   "display_name": "Python 3 (ipykernel)",
   "language": "python",
   "name": "python3"
  },
  "language_info": {
   "codemirror_mode": {
    "name": "ipython",
    "version": 3
   },
   "file_extension": ".py",
   "mimetype": "text/x-python",
   "name": "python",
   "nbconvert_exporter": "python",
   "pygments_lexer": "ipython3",
   "version": "3.10.9"
  }
 },
 "nbformat": 4,
 "nbformat_minor": 5
}
